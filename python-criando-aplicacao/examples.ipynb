{
 "cells": [
  {
   "metadata": {},
   "cell_type": "markdown",
   "source": [
    "1 - Crie uma lista para cada informação a seguir:\n",
    "\n",
    "Lista de números de 1 a 10;\n",
    "Lista com quatro nomes;\n",
    "Lista com o ano que você nasceu e o ano atual."
   ],
   "id": "e97264caf87410cf"
  },
  {
   "metadata": {
    "ExecuteTime": {
     "end_time": "2025-02-10T04:09:46.758895Z",
     "start_time": "2025-02-10T04:09:46.755978Z"
    }
   },
   "cell_type": "code",
   "source": [
    "numeros = [1,2,3,4,5,6,7,8,9,10]\n",
    "\n",
    "nomes = ['Lua', 'Leo', 'Guela', 'Meg']\n",
    "\n",
    "anos = [1996, 2025]"
   ],
   "id": "37522c16842eae42",
   "outputs": [],
   "execution_count": 10
  },
  {
   "metadata": {},
   "cell_type": "markdown",
   "source": "2 - Crie uma lista e utilize um loop for para percorrer todos os elementos da lista.",
   "id": "b14e0dae545c8c4a"
  },
  {
   "metadata": {
    "ExecuteTime": {
     "end_time": "2025-02-10T04:09:47.740787Z",
     "start_time": "2025-02-10T04:09:47.737349Z"
    }
   },
   "cell_type": "code",
   "source": [
    "for ano in anos:\n",
    "    print(ano)"
   ],
   "id": "12a7a3e0285debd6",
   "outputs": [
    {
     "name": "stdout",
     "output_type": "stream",
     "text": [
      "1996\n",
      "2025\n"
     ]
    }
   ],
   "execution_count": 11
  },
  {
   "metadata": {},
   "cell_type": "markdown",
   "source": [
    "3 - Utilize um loop for para calcular a soma dos números ímpares de 1 a 10.\n",
    "\n"
   ],
   "id": "85168fc6563d12f0"
  },
  {
   "metadata": {
    "ExecuteTime": {
     "end_time": "2025-02-10T04:17:57.369395Z",
     "start_time": "2025-02-10T04:17:57.365545Z"
    }
   },
   "cell_type": "code",
   "source": [
    "soma = 0\n",
    "for numero in numeros:\n",
    "    if numero % 2 != 0:\n",
    "        soma = soma + numero\n",
    "\n",
    "soma"
   ],
   "id": "30e608ea4aa6fecf",
   "outputs": [
    {
     "data": {
      "text/plain": [
       "25"
      ]
     },
     "execution_count": 26,
     "metadata": {},
     "output_type": "execute_result"
    }
   ],
   "execution_count": 26
  },
  {
   "metadata": {},
   "cell_type": "markdown",
   "source": [
    "4 - Utilize um loop for para imprimir os números de 1 a 10 em ordem decrescente.\n",
    "\n",
    "\n",
    "\n"
   ],
   "id": "d8a917daa0c682fe"
  },
  {
   "metadata": {
    "ExecuteTime": {
     "end_time": "2025-02-10T04:18:40.349774Z",
     "start_time": "2025-02-10T04:18:40.347161Z"
    }
   },
   "cell_type": "code",
   "source": [
    "for numero in numeros[::-1]:\n",
    "    print(numero)"
   ],
   "id": "d5e9841ba44a5754",
   "outputs": [
    {
     "name": "stdout",
     "output_type": "stream",
     "text": [
      "10\n",
      "9\n",
      "8\n",
      "7\n",
      "6\n",
      "5\n",
      "4\n",
      "3\n",
      "2\n",
      "1\n"
     ]
    }
   ],
   "execution_count": 27
  },
  {
   "metadata": {},
   "cell_type": "markdown",
   "source": [
    "5 - Solicite ao usuário um número e, em seguida, utilize um loop for para imprimir a tabuada desse número, indo de 1 a 10.\n",
    "\n"
   ],
   "id": "2fd26266072ad97a"
  },
  {
   "metadata": {
    "ExecuteTime": {
     "end_time": "2025-02-10T04:20:49.455020Z",
     "start_time": "2025-02-10T04:20:45.987705Z"
    }
   },
   "cell_type": "code",
   "source": [
    "numero = int(input('digite o numero'))\n",
    "\n",
    "print('\\n--TABUADA--\\n')\n",
    "\n",
    "for numero_tabuada in range(1,11):\n",
    "    print(f'{numero} x {numero_tabuada} = {numero*numero_tabuada}')"
   ],
   "id": "ccfcdf6ff11c45f6",
   "outputs": [
    {
     "name": "stdout",
     "output_type": "stream",
     "text": [
      "\n",
      "--TABUADA--\n",
      "\n",
      "11 x 1 = 11\n",
      "11 x 2 = 22\n",
      "11 x 3 = 33\n",
      "11 x 4 = 44\n",
      "11 x 5 = 55\n",
      "11 x 6 = 66\n",
      "11 x 7 = 77\n",
      "11 x 8 = 88\n",
      "11 x 9 = 99\n",
      "11 x 10 = 110\n"
     ]
    }
   ],
   "execution_count": 30
  },
  {
   "metadata": {},
   "cell_type": "markdown",
   "source": [
    "6 - Crie uma lista de números e utilize um loop for para calcular a soma de todos os elementos. Utilize um bloco try-except para lidar com possíveis exceções.\n",
    "\n"
   ],
   "id": "6d9a383271199dc7"
  },
  {
   "metadata": {
    "ExecuteTime": {
     "end_time": "2025-02-10T04:23:55.333828Z",
     "start_time": "2025-02-10T04:23:55.330343Z"
    }
   },
   "cell_type": "code",
   "source": [
    "numeros = [1,2,3,4,5,6,7,8,9,10]\n",
    "\n",
    "soma = 0\n",
    "\n",
    "for numero in numeros:\n",
    "    try:\n",
    "        soma += numero\n",
    "    except:\n",
    "        print('not sumable')\n",
    "print(soma)"
   ],
   "id": "c17c8f50c74e43c2",
   "outputs": [
    {
     "name": "stdout",
     "output_type": "stream",
     "text": [
      "55\n"
     ]
    }
   ],
   "execution_count": 34
  },
  {
   "metadata": {},
   "cell_type": "markdown",
   "source": [
    "7 - Construa um código que calcule a média dos valores em uma lista. Utilize um bloco try-except para lidar com a divisão por zero, caso a lista esteja vazia.\n",
    "\n"
   ],
   "id": "cc4c4709e68b1b21"
  },
  {
   "metadata": {
    "ExecuteTime": {
     "end_time": "2025-02-10T04:33:00.346847Z",
     "start_time": "2025-02-10T04:33:00.335511Z"
    }
   },
   "cell_type": "code",
   "source": [
    "lista_valida = [5, 10, 20]\n",
    "lista_vazia = []\n",
    "\n",
    "soma = 0\n",
    "\n",
    "try:\n",
    "    for numero in lista_vazia:\n",
    "        soma += numero\n",
    "    if quantidade > 0:\n",
    "        media = soma / len(lista_vazia)\n",
    "    else:\n",
    "        print('A lista está vazia, não é possível calcular a média.')\n",
    "\n",
    "except ZeroDivisionError:\n",
    "    print('Tentativa de divisão por zero')\n",
    "except Exception as e:\n",
    "    print(f'Erro inesperado: {e}')\n",
    "\n",
    "media = soma / quantidade\n",
    "media"
   ],
   "id": "bcfcd331656b54df",
   "outputs": [
    {
     "name": "stdout",
     "output_type": "stream",
     "text": [
      "A lista está vazia, não é possível calcular a média.\n"
     ]
    },
    {
     "ename": "ZeroDivisionError",
     "evalue": "division by zero",
     "output_type": "error",
     "traceback": [
      "\u001B[1;31m---------------------------------------------------------------------------\u001B[0m",
      "\u001B[1;31mZeroDivisionError\u001B[0m                         Traceback (most recent call last)",
      "Cell \u001B[1;32mIn[66], line 19\u001B[0m\n\u001B[0;32m     16\u001B[0m \u001B[38;5;28;01mexcept\u001B[39;00m \u001B[38;5;167;01mException\u001B[39;00m \u001B[38;5;28;01mas\u001B[39;00m e:\n\u001B[0;32m     17\u001B[0m     \u001B[38;5;28mprint\u001B[39m(\u001B[38;5;124mf\u001B[39m\u001B[38;5;124m'\u001B[39m\u001B[38;5;124mErro inesperado: \u001B[39m\u001B[38;5;132;01m{\u001B[39;00me\u001B[38;5;132;01m}\u001B[39;00m\u001B[38;5;124m'\u001B[39m)\n\u001B[1;32m---> 19\u001B[0m media \u001B[38;5;241m=\u001B[39m \u001B[43msoma\u001B[49m\u001B[43m \u001B[49m\u001B[38;5;241;43m/\u001B[39;49m\u001B[43m \u001B[49m\u001B[43mquantidade\u001B[49m\n\u001B[0;32m     20\u001B[0m media\n",
      "\u001B[1;31mZeroDivisionError\u001B[0m: division by zero"
     ]
    }
   ],
   "execution_count": 66
  },
  {
   "metadata": {},
   "cell_type": "markdown",
   "source": [
    "- Em Python, qualquer objeto pode ser avaliado como \"verdadeiro\" ou \"falso\" em um contexto booleano.\n",
    "- Para estruturas de dados, como listas, dicionários, conjuntos e tuplas:\n",
    "    - **Listas vazias** (`[]`) são avaliadas como `False`.\n",
    "    - **Listas não vazias** (independente do tipo ou número de elementos) são avaliadas como `True`."
   ],
   "id": "9fa10ec3049d8028"
  },
  {
   "metadata": {
    "ExecuteTime": {
     "end_time": "2025-02-10T05:23:29.925092Z",
     "start_time": "2025-02-10T05:23:29.921845Z"
    }
   },
   "cell_type": "code",
   "source": [
    "lista = [1,3,4]\n",
    "a = 1 if lista else 0\n",
    "a"
   ],
   "id": "ddbb4438dce859f8",
   "outputs": [
    {
     "data": {
      "text/plain": [
       "1"
      ]
     },
     "execution_count": 69,
     "metadata": {},
     "output_type": "execute_result"
    }
   ],
   "execution_count": 69
  },
  {
   "metadata": {},
   "cell_type": "markdown",
   "source": [
    "Atualizar valor em um dicionário\n",
    "\n",
    "O método update() é outra forma válida de atualizar o valor de uma chave em um dicionário em Python.\n"
   ],
   "id": "e6536970932ba5c"
  },
  {
   "metadata": {},
   "cell_type": "markdown",
   "source": "# Dicionarios",
   "id": "26fa5fb20b83a84f"
  },
  {
   "metadata": {
    "ExecuteTime": {
     "end_time": "2025-02-10T05:24:32.274052Z",
     "start_time": "2025-02-10T05:24:32.270752Z"
    }
   },
   "cell_type": "code",
   "source": [
    "livro = {\n",
    "    'titulo': 'Aprendendo Python',\n",
    "    'preco': 59.90}\n",
    "\n",
    "livro.update({'preco': 69.90})\n",
    "# A forma mais comum é livro[preco] = 69.90\n",
    "livro"
   ],
   "id": "6e8f331fe6d1a7e9",
   "outputs": [
    {
     "data": {
      "text/plain": [
       "{'titulo': 'Aprendendo Python', 'preco': 69.9}"
      ]
     },
     "execution_count": 70,
     "metadata": {},
     "output_type": "execute_result"
    }
   ],
   "execution_count": 70
  },
  {
   "metadata": {},
   "cell_type": "markdown",
   "source": [
    "1 - Crie um dicionário representando informações sobre uma pessoa, como nome, idade e cidade.\n",
    "\n"
   ],
   "id": "8f4c5d6f22b1473f"
  },
  {
   "metadata": {
    "ExecuteTime": {
     "end_time": "2025-02-10T05:28:35.026468Z",
     "start_time": "2025-02-10T05:28:35.023930Z"
    }
   },
   "cell_type": "code",
   "source": [
    "pessoa = {'nome': 'Maicon',\n",
    "          'idade': 28,\n",
    "          'cidade': 'Porto Alegre'}"
   ],
   "id": "257706a1fee9833b",
   "outputs": [],
   "execution_count": 71
  },
  {
   "metadata": {},
   "cell_type": "markdown",
   "source": [
    "2 - Utilizando o dicionário criado no item 1:\n",
    "\n",
    "Modifique o valor de um dos itens no dicionário (por exemplo, atualize a idade da pessoa);\n",
    "Adicione um campo de profissão para essa pessoa;\n",
    "Remova um item do dicionário."
   ],
   "id": "6dd7efdf1c4fdaf0"
  },
  {
   "metadata": {
    "ExecuteTime": {
     "end_time": "2025-02-10T05:30:57.579258Z",
     "start_time": "2025-02-10T05:30:57.575957Z"
    }
   },
   "cell_type": "code",
   "source": [
    "pessoa['idade'] = 29 #modificando\n",
    "pessoa['profissao'] = 'Programador' #adicionando\n",
    "pessoa.pop('cidade') #removendo\n",
    "\n",
    "pessoa"
   ],
   "id": "f9d1c3f4d1edb0ad",
   "outputs": [
    {
     "data": {
      "text/plain": [
       "{'nome': 'Maicon', 'idade': 29, 'profissao': 'Programador'}"
      ]
     },
     "execution_count": 72,
     "metadata": {},
     "output_type": "execute_result"
    }
   ],
   "execution_count": 72
  },
  {
   "metadata": {},
   "cell_type": "markdown",
   "source": [
    "3 - Crie um dicionário utilizando para representar números e seus quadrados de 1 a 5.\n",
    "\n"
   ],
   "id": "bb882370bad6da6c"
  },
  {
   "metadata": {
    "ExecuteTime": {
     "end_time": "2025-02-10T05:37:25.341530Z",
     "start_time": "2025-02-10T05:37:25.326131Z"
    }
   },
   "cell_type": "code",
   "source": [
    "numeros_quadrados = {}\n",
    "\n",
    "for num in range(1,6):\n",
    "    print(numeros_quadrados)\n",
    "    quadrado = num ** 2\n",
    "    numeros_quadrados[num] = quadrado #isso aqui é traduzido em 1:1, 2:4, 3:9...\n",
    "\n",
    "# numeros_quadrados"
   ],
   "id": "b4b7f5747143b44e",
   "outputs": [
    {
     "name": "stdout",
     "output_type": "stream",
     "text": [
      "{}\n",
      "{1: 1}\n",
      "{1: 1, 2: 4}\n",
      "{1: 1, 2: 4, 3: 9}\n",
      "{1: 1, 2: 4, 3: 9, 4: 16}\n"
     ]
    }
   ],
   "execution_count": 77
  },
  {
   "metadata": {},
   "cell_type": "markdown",
   "source": "4 - Crie um dicionário e verifique se uma chave específica existe dentro desse dicionário.",
   "id": "b025ec94b46ba828"
  },
  {
   "metadata": {
    "ExecuteTime": {
     "end_time": "2025-02-10T05:43:08.430003Z",
     "start_time": "2025-02-10T05:43:08.426702Z"
    }
   },
   "cell_type": "code",
   "source": [
    "fruits = {'banana':'yellow',\n",
    "          'apple':'red',\n",
    "          'pear':'green'}\n",
    "\n",
    "print('sim') if 'abacaxi' in fruits else print('nao')\n",
    "\n",
    "print('sim') if fruits.get('apple') else print('nao')\n"
   ],
   "id": "e9a0970c670288cc",
   "outputs": [
    {
     "name": "stdout",
     "output_type": "stream",
     "text": [
      "nao\n",
      "sim\n"
     ]
    }
   ],
   "execution_count": 86
  },
  {
   "metadata": {},
   "cell_type": "markdown",
   "source": [
    "5 - Escreva um código que conte a frequência de cada palavra em uma frase utilizando um dicionário.\n",
    "\n"
   ],
   "id": "ff84a0269c79567b"
  },
  {
   "metadata": {
    "ExecuteTime": {
     "end_time": "2025-02-10T05:47:43.374339Z",
     "start_time": "2025-02-10T05:47:36.505770Z"
    }
   },
   "cell_type": "code",
   "source": [
    "# Solicita ao usuário que digite uma frase\n",
    "frase = input(\"Digite uma frase: \")\n",
    "\n",
    "# Inicializa um dicionário para armazenar a contagem de palavras\n",
    "frequencia_palavras = {}\n",
    "\n",
    "# Divide a frase em palavras\n",
    "palavras = frase.split()\n",
    "\n",
    "# Itera sobre as palavras e conta a frequência\n",
    "for palavra in palavras:\n",
    "    if palavra in frequencia_palavras:\n",
    "        frequencia_palavras[palavra] += 1\n",
    "    else:\n",
    "        frequencia_palavras[palavra] = 1\n",
    "\n",
    "print(\"Frequência das palavras:\", frequencia_palavras)\n"
   ],
   "id": "b7bdfe3d65ec3c47",
   "outputs": [
    {
     "name": "stdout",
     "output_type": "stream",
     "text": [
      "Frequência das palavras: {'my': 1, 'cat': 4, 'is': 1, 'very': 1, 'cute': 1}\n"
     ]
    }
   ],
   "execution_count": 92
  },
  {
   "metadata": {},
   "cell_type": "code",
   "outputs": [],
   "execution_count": null,
   "source": "",
   "id": "34c5fd33fabb9b5e"
  }
 ],
 "metadata": {
  "kernelspec": {
   "display_name": "Python 3",
   "language": "python",
   "name": "python3"
  },
  "language_info": {
   "codemirror_mode": {
    "name": "ipython",
    "version": 2
   },
   "file_extension": ".py",
   "mimetype": "text/x-python",
   "name": "python",
   "nbconvert_exporter": "python",
   "pygments_lexer": "ipython2",
   "version": "2.7.6"
  }
 },
 "nbformat": 4,
 "nbformat_minor": 5
}
